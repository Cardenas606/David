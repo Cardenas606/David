{
 "cells": [
  {
   "cell_type": "code",
   "execution_count": 4,
   "id": "02b9062f",
   "metadata": {},
   "outputs": [
    {
     "name": "stdout",
     "output_type": "stream",
     "text": [
      "10 <class 'int'>\n",
      "34.5 <class 'float'>\n",
      "david <class 'str'>\n"
     ]
    }
   ],
   "source": [
    "numero1=10\n",
    "print ((numero1),type(numero1))\n",
    "\n",
    "\n",
    "numero2=34.5\n",
    "print ((numero2),type(numero2))\n",
    "\n",
    "\n",
    "name=\"david\"\n",
    "print ((name), type(name))"
   ]
  },
  {
   "cell_type": "markdown",
   "id": "ec39189a",
   "metadata": {},
   "source": [
    "#clase 4-8"
   ]
  },
  {
   "cell_type": "code",
   "execution_count": 5,
   "id": "542a9f6b",
   "metadata": {},
   "outputs": [
    {
     "name": "stdout",
     "output_type": "stream",
     "text": [
      "10 <class 'int'>\n",
      "34.5 <class 'float'>\n",
      "david <class 'str'>\n"
     ]
    }
   ],
   "source": [
    "numero1=10\n",
    "print ((numero1),type(numero1))\n",
    "\n",
    "\n",
    "numero2=34.5\n",
    "print ((numero2),type(numero2))\n",
    "\n",
    "\n",
    "name=\"david\"\n",
    "print ((name), type(name))"
   ]
  },
  {
   "cell_type": "code",
   "execution_count": 1,
   "id": "87607d2a",
   "metadata": {},
   "outputs": [
    {
     "name": "stdout",
     "output_type": "stream",
     "text": [
      "david  cardenas\n"
     ]
    }
   ],
   "source": [
    "name=\"david\"\n",
    "lastname= \" cardenas\"\n",
    "\n",
    "print (name, lastname)"
   ]
  },
  {
   "cell_type": "code",
   "execution_count": null,
   "id": "4249f2fa",
   "metadata": {},
   "outputs": [],
   "source": [
    "nota1= input(\"ingrese nota 1\")\n",
    "nota2= input(\"ingrese nota 2\")\n",
    "nota3= input(\"ingrese nota 3\")\n",
    "nota4= input(\"ingrese nota 4\")\n",
    "\n",
    "P=(nota1+nota2+nota3+nota4)*0.25\n",
    "\n",
    "print (\"tu proimedio es de \",P)\n",
    "\n",
    "parcial= input(\"engrese parcial\")\n",
    "final= input(\"ingrese final\")\n",
    "\n",
    "F=(P+parcial+final)/3\n",
    "\n",
    "print(\"su definitiva es\", F)"
   ]
  }
 ],
 "metadata": {
  "kernelspec": {
   "display_name": "Python 3",
   "language": "python",
   "name": "python3"
  },
  "language_info": {
   "codemirror_mode": {
    "name": "ipython",
    "version": 3
   },
   "file_extension": ".py",
   "mimetype": "text/x-python",
   "name": "python",
   "nbconvert_exporter": "python",
   "pygments_lexer": "ipython3",
   "version": "3.13.0"
  }
 },
 "nbformat": 4,
 "nbformat_minor": 5
}
