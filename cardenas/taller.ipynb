{
 "cells": [
  {
   "cell_type": "markdown",
   "id": "c0b2db86",
   "metadata": {},
   "source": [
    "1er pto"
   ]
  },
  {
   "cell_type": "code",
   "execution_count": null,
   "id": "62df9235",
   "metadata": {},
   "outputs": [],
   "source": [
    "base = float(input(\"Ingrese la base del rectángulo: \"))\n",
    "altura = float(input(\"Ingrese la altura del rectángulo: \"))\n",
    "perimetro = 2 * (base + altura)\n",
    "area = base * altura\n",
    "print(\"El perímetro es:\", perimetro)\n",
    "print(\"El área es:\", area)"
   ]
  },
  {
   "cell_type": "markdown",
   "id": "698a8789",
   "metadata": {},
   "source": [
    "2do pto"
   ]
  },
  {
   "cell_type": "code",
   "execution_count": null,
   "id": "748ea060",
   "metadata": {},
   "outputs": [],
   "source": [
    "cateto1 = float(input(\"Ingrese el primer cateto: \"))\n",
    "cateto2 = float(input(\"Ingrese el segundo cateto: \"))\n",
    "hipotenusa = math.sqrt(cateto1**2 + cateto2**2)\n",
    "print(\"La hipotenusa es:\", hipotenusa)"
   ]
  },
  {
   "cell_type": "markdown",
   "id": "23b05272",
   "metadata": {},
   "source": [
    "3er pto"
   ]
  },
  {
   "cell_type": "code",
   "execution_count": null,
   "id": "f7b9f5b1",
   "metadata": {},
   "outputs": [],
   "source": [
    "nums = [float(input(f\"Ingrese el número {i+1}: \")) for i in range(5)]\n",
    "suma = sum(nums)\n",
    "resta = nums[0] - nums[1] - nums[2] - nums[3] - nums[4]\n",
    "division = nums[0] / nums[1] / nums[2] / nums[3] / nums[4]\n",
    "multiplicacion = nums[0] * nums[1] * nums[2] * nums[3] * nums[4]\n",
    "modulos = [n % 2 for n in nums]\n",
    " \n",
    "print(\"Suma:\", suma)\n",
    "print(\"Resta:\", resta)\n",
    "print(\"División:\", division)\n",
    "print(\"Multiplicación:\", multiplicacion)\n",
    "print(\"Módulo de 2 de cada número:\", modulos)"
   ]
  },
  {
   "cell_type": "markdown",
   "id": "b5718051",
   "metadata": {},
   "source": [
    "4to pto"
   ]
  },
  {
   "cell_type": "code",
   "execution_count": null,
   "id": "bc67090a",
   "metadata": {},
   "outputs": [],
   "source": [
    "n1 = float(input(\"Ingrese el primer número: \"))\n",
    "n2 = float(input(\"Ingrese el segundo número: \"))\n",
    "n3 = float(input(\"Ingrese el tercer número: \"))\n",
    "media = (n1 + n2 + n3) / 3\n",
    "print(\"La media es:\", media)"
   ]
  },
  {
   "cell_type": "markdown",
   "id": "a5522655",
   "metadata": {},
   "source": [
    "5to pto"
   ]
  },
  {
   "cell_type": "code",
   "execution_count": null,
   "id": "6470e19f",
   "metadata": {},
   "outputs": [],
   "source": [
    "sueldo_base = float(input(\"Ingrese el sueldo base: \"))\n",
    "ventas = [float(input(f\"Ingrese el valor de la venta {i+1}: \")) for i in range(5)]\n",
    "total_ventas = sum(ventas)\n",
    "comision = total_ventas * 0.10\n",
    "total_mes = sueldo_base + comision\n",
    " \n",
    "print(\"Total de comisiones:\", comision)\n",
    "print(\"Total mensual:\", total_mes)"
   ]
  }
 ],
 "metadata": {
  "kernelspec": {
   "display_name": "Python 3",
   "language": "python",
   "name": "python3"
  },
  "language_info": {
   "codemirror_mode": {
    "name": "ipython",
    "version": 3
   },
   "file_extension": ".py",
   "mimetype": "text/x-python",
   "name": "python",
   "nbconvert_exporter": "python",
   "pygments_lexer": "ipython3",
   "version": "3.13.0"
  }
 },
 "nbformat": 4,
 "nbformat_minor": 5
}
